{
  "nbformat": 4,
  "nbformat_minor": 0,
  "metadata": {
    "colab": {
      "provenance": [],
      "include_colab_link": true
    },
    "kernelspec": {
      "name": "python3",
      "display_name": "Python 3"
    },
    "language_info": {
      "name": "python"
    }
  },
  "cells": [
    {
      "cell_type": "markdown",
      "metadata": {
        "id": "view-in-github",
        "colab_type": "text"
      },
      "source": [
        "<a href=\"https://colab.research.google.com/github/qdo1010/NE204examples/blob/main/NE204_Assignment04.ipynb\" target=\"_parent\"><img src=\"https://colab.research.google.com/assets/colab-badge.svg\" alt=\"Open In Colab\"/></a>"
      ]
    },
    {
      "cell_type": "markdown",
      "source": [
        "## Questions 1-10 do not require Python"
      ],
      "metadata": {
        "id": "hx1yGQPpDqlB"
      }
    },
    {
      "cell_type": "code",
      "source": [
        "# Import the necessary packages\n",
        "import numpy as np\n",
        "import matplotlib.pyplot as plt\n",
        "from scipy import signal\n"
      ],
      "metadata": {
        "id": "79RUsGWqEAxi"
      },
      "execution_count": null,
      "outputs": []
    },
    {
      "cell_type": "markdown",
      "source": [
        "## Question 11\n",
        "\n",
        "Use the code below. Set the input current I=6 nA constant current, C=0.6 nF, and R=10 MOhm. Then, decrease I.\n",
        "\n",
        "What happens to the number of spikes observed to occur as you decrease I to 3 nA?"
      ],
      "metadata": {
        "id": "YPKkj8kcDvQH"
      }
    },
    {
      "cell_type": "code",
      "source": [
        "def derivV(V,Vrest,I,R,tau):\n",
        "  return (Vrest - V + R*I)/tau\n",
        "\n",
        "\n",
        "def LIFsolve(Vrest, Vth, Vreset, dt, tmax, R, C, I):\n",
        "  t = np.arange(0, tmax, dt)\n",
        "  Vs = np.zeros(len(t))\n",
        "  spiketrain = np.zeros(len(t))\n",
        "  Vs[0] = Vrest\n",
        "  tau = R*C\n",
        "  for i in range(1, len(t)):\n",
        "      Vs[i] = Vs[i-1] + dt*derivV(Vs[i-1],Vrest,I[i],R,tau)\n",
        "      if Vs[i] >= Vth:\n",
        "          Vs[i] = Vreset\n",
        "          spiketrain[i] = 1\n",
        "\n",
        "\n",
        "  return Vs, t, spiketrain\n",
        "\n",
        "# Parameters\n",
        "Vrest = -55 # mV\n",
        "Vth = -40 # mV\n",
        "Vreset = -80 # mV\n",
        "dt = 0.05 # milliseconds\n",
        "tmax = 100 # milliseconds\n",
        "\n",
        "R = 10 # MOhm\n",
        "C = 0.6 # nF\n",
        "\n",
        "t = np.arange(0, tmax, dt)\n",
        "\n",
        "I = np.zeros(len(t)) # Array to store inputs I\n",
        "idx = np.where( (t> 10) & (t <= 50)) # indices for specifying input times\n",
        "I[idx] = 2 #nA\n",
        "\n",
        "Vs, t, sp = LIFsolve(Vrest, Vth, Vreset, dt, tmax, R, C, I)\n",
        "spikeindices = np.where(sp == 1)\n",
        "\n",
        "# Plotting\n",
        "\n",
        "fig, axs = plt.subplots(2, 1, gridspec_kw={'height_ratios': [4, 1]})\n",
        "\n",
        "axs[0].plot(t, Vs)\n",
        "axs[0].axhline(y= Vth, linestyle='dotted', color='red')\n",
        "axs[0].axhline(y= Vrest, linestyle='dotted', color='green')\n",
        "axs[0].axhline(y= Vreset, linestyle='dotted', color='magenta')\n",
        "axs[0].set_xlabel('Time (ms)')\n",
        "axs[0].set_ylabel('Voltage (mV)')\n",
        "axs[0].set_title('LIF')\n",
        "axs[0].legend(['$V_{in}$','$V_{Th}$','$V_{rest}$', '$V_{reset}$'])\n",
        "if sum(sp) > 0:\n",
        "  axs[0].stem(t[spikeindices], np.ones(len(spikeindices[0])),markerfmt='none',basefmt=\" \", bottom = Vth)\n",
        "\n",
        "axs[1].plot(t,I)\n",
        "axs[1].set_xlabel('Time (ms)')\n",
        "axs[1].set_ylabel('I (nA)')\n",
        "axs[1].set_title('Input Current $I(t)$')\n",
        "plt.subplots_adjust(hspace=0.8)\n",
        "plt.show()\n",
        "\n"
      ],
      "metadata": {
        "id": "Kl2KplPyF5de"
      },
      "execution_count": null,
      "outputs": []
    },
    {
      "cell_type": "markdown",
      "source": [
        "## Question 12\n",
        "\n",
        "Use Questions 10 and 11 to answer this."
      ],
      "metadata": {
        "id": "LYaSdU8eITNI"
      }
    },
    {
      "cell_type": "markdown",
      "source": [
        "## Question 13\n",
        "\n",
        "Set C=0.6 nF and R=10 MOhm, and set the input current I=-1 nA constant current. Notice,\n",
        "\n",
        "in this case, that the input current is negative. From its starting value, how does V evolve in time?\n",
        "\n",
        "Copy the code above and modify as necessary to answer this."
      ],
      "metadata": {
        "id": "PP58Spp1IU6C"
      }
    },
    {
      "cell_type": "code",
      "source": [
        "# Paste the code here\n"
      ],
      "metadata": {
        "id": "-Q4S8S9aIgcQ"
      },
      "execution_count": null,
      "outputs": []
    },
    {
      "cell_type": "markdown",
      "source": [
        "## Question 14\n",
        "\n",
        "Set C=0.6 nF and R=10 MOhm, and set the input current I=-1 nA (i.e., a constant current).\n",
        "\n",
        "Estimate the final value to which V decays in the LIF GUI interface. Express your answer in millivolts."
      ],
      "metadata": {
        "id": "Nvl0w32NI5kz"
      }
    },
    {
      "cell_type": "code",
      "source": [
        "# Parameters\n",
        "Vrest = -55 # mV\n",
        "Vth = -40 # mV\n",
        "Vreset = -80 # mV\n",
        "dt = 0.02 # milliseconds\n",
        "tmax = 100 # milliseconds\n",
        "\n",
        "\n",
        "R = 10 # MOhm\n",
        "C = 0.6 # nF\n",
        "\n",
        "t = np.arange(0, tmax, dt)\n",
        "\n",
        "I = np.zeros(len(t)) # Array to store inputs I\n",
        "idx = np.where(t> 10) # indices for specifying input times\n",
        "I[idx] =  3 #nA\n",
        "\n",
        "Vs, t, sp = LIFsolve(Vrest, Vth, Vreset, dt, tmax, R, C, I)\n",
        "spikeindices = np.where(sp == 1)\n",
        "\n",
        "# Plotting\n",
        "\n",
        "fig, axs = plt.subplots(2, 1, gridspec_kw={'height_ratios': [4, 1]})\n",
        "\n",
        "\n",
        "axs[0].plot(t, Vs)\n",
        "axs[0].axhline(y= Vth, linestyle='dotted', color='red')\n",
        "axs[0].axhline(y= Vrest, linestyle='dotted', color='green')\n",
        "axs[0].axhline(y= Vreset, linestyle='dotted', color='magenta')\n",
        "axs[0].set_xlabel('Time (ms)')\n",
        "axs[0].set_ylabel('Voltage (mV)')\n",
        "axs[0].set_title('LIF')\n",
        "axs[0].legend(['$V_{in}$','$V_{Th}$','$V_{rest}$', '$V_{reset}$'])\n",
        "if sum(sp) > 0:\n",
        "  axs[0].stem(t[spikeindices], np.ones(len(spikeindices[0])),markerfmt='none',basefmt=\" \", bottom = Vth)\n",
        "\n",
        "axs[1].plot(t,I)\n",
        "axs[1].set_xlabel('Time (ms)')\n",
        "axs[1].set_ylabel('I (nA)')\n",
        "axs[1].set_title('Input Current $I(t)$')\n",
        "plt.subplots_adjust(hspace=0.8)\n",
        "plt.show()\n",
        "\n",
        "print(\"Simulated final value of V = \", V[-1])"
      ],
      "metadata": {
        "id": "dCKuHuLgJBAL"
      },
      "execution_count": null,
      "outputs": []
    },
    {
      "cell_type": "markdown",
      "source": [
        "## Question 15\n",
        "\n",
        "Set C=0.6 nF and R=10 MOhm, and set the input current I=-1 nA (i.e., a constant current).\n",
        "\n",
        "Calculate the target voltage (VT) to which V decays using the formula  we determined in class.\n",
        "\n",
        "Express your answer in millivolts."
      ],
      "metadata": {
        "id": "nkd3Jh2AKd4R"
      }
    },
    {
      "cell_type": "code",
      "source": [
        "# You may need to change something here\n",
        "Vtarget = Vrest + I[0]*R\n",
        "print(\"Predicted final value of V = \", Vtarget)"
      ],
      "metadata": {
        "id": "JEUg6NpeKFMX"
      },
      "execution_count": null,
      "outputs": []
    },
    {
      "cell_type": "markdown",
      "source": [
        "## Question 16\n",
        "\n",
        "Set I = 3 nA constant current, C=0.6 nF, and R=10 MOhm. Then decrease R to 6 MOhm.\n",
        "\n",
        "What happens to the number of spikes observed?\n",
        "\n"
      ],
      "metadata": {
        "id": "pRnRHomXL43-"
      }
    },
    {
      "cell_type": "code",
      "source": [
        "# Paste the necessary code here and modify it to answer the question"
      ],
      "metadata": {
        "id": "K-MWOX64L9h1"
      },
      "execution_count": null,
      "outputs": []
    },
    {
      "cell_type": "markdown",
      "source": [
        "## Question 17\n",
        "\n",
        "Set I = 3 nA constant current, C=0.6 nF, and R=10 MOhm. Then decrease R to 6 MOhm.\n",
        "\n",
        "What happens to the target voltage?\n"
      ],
      "metadata": {
        "id": "slXhypdbM2D8"
      }
    },
    {
      "cell_type": "code",
      "source": [
        "# Paste the necessary code here and modify it to answer the question"
      ],
      "metadata": {
        "id": "uK9_E35zNJLp"
      },
      "execution_count": null,
      "outputs": []
    },
    {
      "cell_type": "markdown",
      "source": [
        "## Question 18\n",
        "\n",
        "Set I= 3 nA constant current, C=0.6 nF, and R=10 MOhm. Then decrease C to 0.1 nF.\n",
        "\n",
        "What happens to the number of spikes observed?"
      ],
      "metadata": {
        "id": "aiRYAiwZOmtB"
      }
    },
    {
      "cell_type": "code",
      "source": [
        "# Paste the necessary code here and modify it to answer the question\n"
      ],
      "metadata": {
        "id": "YA1_5E9kOr6T"
      },
      "execution_count": null,
      "outputs": []
    },
    {
      "cell_type": "markdown",
      "source": [
        "## Question 19\n",
        "\n",
        "Set I = 3 nA constant current, C=0.6 nF, and R=10 MOhm. Then decrease C to 0.1 nF.\n",
        "\n",
        "What happens to the target voltage?\n",
        "\n"
      ],
      "metadata": {
        "id": "Qwkf-1RDPHmu"
      }
    },
    {
      "cell_type": "code",
      "source": [
        "# Paste the necessary code here and modify it to answer the question"
      ],
      "metadata": {
        "id": "uN8UuAfdPJ_p"
      },
      "execution_count": null,
      "outputs": []
    },
    {
      "cell_type": "markdown",
      "source": [
        "## Question 20\n",
        "\n",
        "Set I = 3 nA constant current, C=0.6 nF, and R=10 MOhm. Then decrease C to 0.1 nF.\n",
        "\n",
        "What happens to the time constant?"
      ],
      "metadata": {
        "id": "aw52DzQXPQ1q"
      }
    },
    {
      "cell_type": "code",
      "source": [
        "# Paste the necessary code here and modify it to answer the question"
      ],
      "metadata": {
        "id": "vhb_yJ5SPhAS"
      },
      "execution_count": null,
      "outputs": []
    },
    {
      "cell_type": "markdown",
      "source": [
        "## Question 21\n",
        "\n",
        "Which of these methods can lead to an increase in the firing rate of an LIF neuron? Select all that apply."
      ],
      "metadata": {
        "id": "rp44Wp_5SbAB"
      }
    },
    {
      "cell_type": "code",
      "source": [
        "# Paste the necessary code here and modify it to answer the question"
      ],
      "metadata": {
        "id": "Gig0iUbxSdj1"
      },
      "execution_count": null,
      "outputs": []
    },
    {
      "cell_type": "markdown",
      "source": [
        "## Question 22\n",
        "\n",
        "Look at the outputs of function LIFsolve2 (above). Select all the statements that are true."
      ],
      "metadata": {
        "id": "h5rX2Dt8dUMK"
      }
    },
    {
      "cell_type": "markdown",
      "source": [
        "## Question 23 (Extra credit)\n",
        "\n",
        "Consider the two LIF plots A and B below. To produce B, one parameter was changed compared to A. Which parameter do you think it is?\n"
      ],
      "metadata": {
        "id": "Sw-XM_nHdYyG"
      }
    },
    {
      "cell_type": "code",
      "source": [
        "# You can guess the answer without simulating, or you can tinker so see what happens when you change different parameters"
      ],
      "metadata": {
        "id": "rWqjTe_RdjpT"
      },
      "execution_count": null,
      "outputs": []
    }
  ]
}